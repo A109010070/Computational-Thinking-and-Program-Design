{
  "nbformat": 4,
  "nbformat_minor": 0,
  "metadata": {
    "colab": {
      "name": "藍誼軒-Week4-練習作業.ipynb",
      "provenance": [],
      "authorship_tag": "ABX9TyOLOJ7/2Mi+MKZfUtdihlQr",
      "include_colab_link": true
    },
    "kernelspec": {
      "name": "python3",
      "display_name": "Python 3"
    }
  },
  "cells": [
    {
      "cell_type": "markdown",
      "metadata": {
        "id": "view-in-github",
        "colab_type": "text"
      },
      "source": [
        "<a href=\"https://colab.research.google.com/github/A109010070/Computational-Thinking-and-Program-Design/blob/main/%E8%97%8D%E8%AA%BC%E8%BB%92_Week4_%E7%B7%B4%E7%BF%92%E4%BD%9C%E6%A5%AD.ipynb\" target=\"_parent\"><img src=\"https://colab.research.google.com/assets/colab-badge.svg\" alt=\"Open In Colab\"/></a>"
      ]
    },
    {
      "cell_type": "markdown",
      "metadata": {
        "id": "-wG9eIQyVBxR"
      },
      "source": [
        "#隨堂練習\r\n"
      ]
    },
    {
      "cell_type": "markdown",
      "metadata": {
        "id": "878QKdDmVl3c"
      },
      "source": [
        "#課後練習\r\n",
        "**從一則新聞報導，提出你對新聞系（OO系）學生為什麼要學「運算思維與程式設計」的見解。（告訴我新聞連結，以及你的觀點即可。）**\r\n"
      ]
    },
    {
      "cell_type": "markdown",
      "metadata": {
        "id": "AoN6mQP3ZA5d"
      },
      "source": [
        "https://unclepdiary.com/why-learn-coding/\r\n",
        "新聞媒介依賴傳播科技發展，在未來的趨勢之中，我們需要和更多的機器、電腦合作，在與這些非人類語言溝通時就需要學習運用程式語言來溝通，在往後的傳播媒介中，程式成為了更加普及的行為甚至活動，也非工程師的專利，任何人都能夠學習，學寫程式也能有更清晰的邏輯思路和增進團隊合作的能力，勇於表達自己的想法，這些能力都與新聞所學有異曲同工之妙。"
      ]
    },
    {
      "cell_type": "code",
      "metadata": {
        "id": "6Zb0DsAPWTwQ"
      },
      "source": [
        ""
      ],
      "execution_count": null,
      "outputs": []
    }
  ]
}