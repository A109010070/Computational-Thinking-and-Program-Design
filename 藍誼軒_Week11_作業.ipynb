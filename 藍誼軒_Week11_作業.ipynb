{
  "nbformat": 4,
  "nbformat_minor": 0,
  "metadata": {
    "kernelspec": {
      "display_name": "Python 3",
      "language": "python",
      "name": "python3"
    },
    "language_info": {
      "codemirror_mode": {
        "name": "ipython",
        "version": 3
      },
      "file_extension": ".py",
      "mimetype": "text/x-python",
      "name": "python",
      "nbconvert_exporter": "python",
      "pygments_lexer": "ipython3",
      "version": "3.8.5"
    },
    "colab": {
      "name": "藍誼軒-Week11-作業.ipynb",
      "provenance": [],
      "include_colab_link": true
    }
  },
  "cells": [
    {
      "cell_type": "markdown",
      "metadata": {
        "id": "view-in-github",
        "colab_type": "text"
      },
      "source": [
        "<a href=\"https://colab.research.google.com/github/A109010070/Computational-Thinking-and-Program-Design/blob/main/%E8%97%8D%E8%AA%BC%E8%BB%92_Week11_%E4%BD%9C%E6%A5%AD.ipynb\" target=\"_parent\"><img src=\"https://colab.research.google.com/assets/colab-badge.svg\" alt=\"Open In Colab\"/></a>"
      ]
    },
    {
      "cell_type": "markdown",
      "metadata": {
        "id": "Cu1k2uJ9wxC7"
      },
      "source": [
        "# 基本程式設計(應用篇)"
      ]
    },
    {
      "cell_type": "markdown",
      "metadata": {
        "id": "rC2JNgXdwxDC"
      },
      "source": [
        "### 4-2 運算思維四個基石"
      ]
    },
    {
      "cell_type": "markdown",
      "metadata": {
        "id": "pujqNq9swxDD"
      },
      "source": [
        "#### 4-2-4  問題拆解 - 打造你的聊天機器人"
      ]
    },
    {
      "cell_type": "markdown",
      "metadata": {
        "id": "CneTQqqvwxDD"
      },
      "source": [
        "「哈囉，大家好。我叫Zyxo64，是一個聊天機器人。\n",
        "\n",
        "在嗜好與興趣方面，我很喜歡美食，也喜歡養動物。\n",
        "\n",
        "很高興有機會來到世新大學，請大家多多指教。\n",
        "\n",
        "嗨！妳好，請問大名？：Francis。\n",
        "\n",
        "Francis，很高興認識你。"
      ]
    },
    {
      "cell_type": "code",
      "metadata": {
        "colab": {
          "base_uri": "https://localhost:8080/"
        },
        "id": "wO86kDwtwxDE",
        "outputId": "0a3b8f68-bbad-42c6-e77a-8a6d68b17fe1"
      },
      "source": [
        "# 1.聊天機器人自我介紹\n",
        "print(\"嗨嗨\")\n",
        "print(f\"我也很喜歡 monsta x\")\n",
        "# 2. 打招呼，取得對方名字\n",
        "hello=\"嗨嗨\"\n",
        "print(hello)\n"
      ],
      "execution_count": 2,
      "outputs": [
        {
          "output_type": "stream",
          "text": [
            "嗨嗨\n",
            "我也很喜歡 monsta x\n",
            "嗨嗨\n"
          ],
          "name": "stdout"
        }
      ]
    },
    {
      "cell_type": "code",
      "metadata": {
        "colab": {
          "base_uri": "https://localhost:8080/"
        },
        "id": "ikRNH23UylQa",
        "outputId": "2225cb7c-7ec0-4b5f-c69d-154e8efd6ee8"
      },
      "source": [
        "print(\"嗨！妳好，\")\n",
        "name=input(\"請問大名？：\")\n",
        "\n",
        "print(f\"{name}，很高興認識你。\")"
      ],
      "execution_count": 4,
      "outputs": [
        {
          "output_type": "stream",
          "text": [
            "嗨！妳好，\n",
            "請問大名？：12\n",
            "12，很高興認識你。\n"
          ],
          "name": "stdout"
        }
      ]
    },
    {
      "cell_type": "markdown",
      "metadata": {
        "id": "-f0DQtOlwxDE"
      },
      "source": [
        "抱歉，請問一下今年是西元2021年，那是民國幾年呢？：*110*。\n",
        "\n",
        "對！沒錯，謝謝妳！\n",
        "\n",
        "**Francis**，猜猜看我今年幾歲？ ：**18**。\n",
        "\n",
        "哇！你好聰明，我今年的確*18*。\n",
        "\n",
        "再82年我就100歲了。\n",
        "\n",
        "那時候是西元 2103年，也就是民國192年囉！"
      ]
    },
    {
      "cell_type": "code",
      "metadata": {
        "colab": {
          "base_uri": "https://localhost:8080/"
        },
        "id": "IN9FPqQ4wxDF",
        "outputId": "271cc241-cf2d-4677-8440-20a631320657"
      },
      "source": [
        "# 3. 數學運算\n",
        "## 3-1 從使用者取得今年年份\n",
        "year=input(\"請問一下今年是西元2021年，那是民國幾年呢？\")\n",
        "\n",
        "print(\"對！沒錯，謝謝妳！\")\n",
        "\n",
        "## 3-2 請使用者猜年齡\n",
        "age=input(\"猜猜看我今年幾歲？： \")\n",
        "print(f\"哇！你好聰明，我今年的確{age}。\")\n",
        "\n",
        "## 3-3 計算聊天機器人滿100歲的年份\n",
        "year=int(year)\n",
        "age=int(age)\n",
        "print(f\"再{100-age}我就100歲了。\")\n",
        "time=2021+(100-age)\n",
        "print(f\"那時候是西元{time}，也就是民國{time-1911}年囉。\")\n"
      ],
      "execution_count": 8,
      "outputs": [
        {
          "output_type": "stream",
          "text": [
            "請問一下今年是西元2021年，那是民國幾年呢？110\n",
            "對！沒錯，謝謝妳！\n",
            "猜猜看我今年幾歲？： 15\n",
            "哇！你好聰明，我今年的確15。\n",
            "再85我就100歲了。\n",
            "那時候是西元2106，也就是民國195年囉。\n"
          ],
          "name": "stdout"
        }
      ]
    },
    {
      "cell_type": "markdown",
      "metadata": {
        "id": "8MqZJq9ewxDF"
      },
      "source": [
        "我喜歡吃巧克力，也喜歡嘗試各種新食物。\n",
        "\n",
        "你呢？你最喜歡的食物是什麼？**:披薩**。\n",
        "\n",
        "我也喜歡 *披薩*。\n",
        "\n",
        "你多久吃一次 *披薩*？**：每天**。\n",
        "\n",
        "真有趣。不知道這樣對健康好不好。"
      ]
    },
    {
      "cell_type": "code",
      "metadata": {
        "colab": {
          "base_uri": "https://localhost:8080/"
        },
        "id": "B9VzQUZ4wxDG",
        "outputId": "40ccdfea-8887-48ed-9712-2cd03028aa31"
      },
      "source": [
        "# 4 興趣\n",
        "## 4-1 食物話題\n",
        "print(\"我喜歡吃巧克力，也喜歡嘗試各種新食物。\")\n",
        "food=input(\"你呢？你最喜歡的食物是什麼？:\")\n",
        "print(f\"我也喜歡{food}\")\n",
        "howoften=input(\"你多久吃一次\"+food+\"?\")\n",
        "print(\"真有趣。不知道這樣對健康好不好。\")"
      ],
      "execution_count": 9,
      "outputs": [
        {
          "output_type": "stream",
          "text": [
            "我喜歡吃巧克力，也喜歡嘗試各種新食物。\n",
            "你呢？你最喜歡的食物是什麼？:我\n",
            "我也喜歡我\n",
            "你多久吃一次我?每天\n",
            "真有趣。不知道這樣對健康好不好。\n"
          ],
          "name": "stdout"
        }
      ]
    },
    {
      "cell_type": "markdown",
      "metadata": {
        "id": "OSPBF8nhwxDG"
      },
      "source": [
        "我最喜歡的動物是長頸鹿。你呢？ **：烏龜**。\n",
        "\n",
        "我不喜歡*烏龜*！\n",
        "\n",
        "不知道 *烏龜* 喜不喜歡吃 *披薩*？"
      ]
    },
    {
      "cell_type": "code",
      "metadata": {
        "id": "kK5emK7uwxDG"
      },
      "source": [
        "# 4 興趣\n",
        "## 4-2 動物話題\n"
      ],
      "execution_count": null,
      "outputs": []
    },
    {
      "cell_type": "code",
      "metadata": {
        "colab": {
          "base_uri": "https://localhost:8080/"
        },
        "id": "PhS2DM4J5vXb",
        "outputId": "2237ac79-2f4d-4a48-d309-7150c1a48a9d"
      },
      "source": [
        "# 4 興趣\n",
        "## 4-1 食物話題\n",
        "print(\"我喜歡吃巧克力，也喜歡嘗試各種新食物。\")\n",
        "food=input(\"你呢？你最喜歡的食物是什麼？:\")\n",
        "print(f\"我也喜歡{food}\")\n",
        "howoften=input(\"你多久吃一次\"+food+\"?\")\n",
        "print(\"真有趣。不知道這樣對健康好不好。\")\n",
        "# 4 興趣\n",
        "## 4-2 動物話題\n",
        "animal=input(\"我最喜歡的動物是長頸鹿。你呢？:\") \n",
        "print(f\"我不喜歡{animal}！\")\n",
        "print(f\"不知道{animal}喜不喜歡吃{food}？\")"
      ],
      "execution_count": 11,
      "outputs": [
        {
          "output_type": "stream",
          "text": [
            "我喜歡吃巧克力，也喜歡嘗試各種新食物。\n",
            "你呢？你最喜歡的食物是什麼？:我\n",
            "我也喜歡我\n",
            "你多久吃一次我?每天\n",
            "真有趣。不知道這樣對健康好不好。\n",
            "我最喜歡的動物是長頸鹿。你呢？:李玟赫\n",
            "我不喜歡李玟赫！\n",
            "不知道李玟赫喜不喜歡吃我？\n"
          ],
          "name": "stdout"
        }
      ]
    },
    {
      "cell_type": "code",
      "metadata": {
        "id": "lIyElpGL5-EF"
      },
      "source": [
        ""
      ],
      "execution_count": null,
      "outputs": []
    },
    {
      "cell_type": "markdown",
      "metadata": {
        "id": "MHbqAOuvwxDH"
      },
      "source": [
        "你今天的心情如何？ **：很開心**。\n",
        "\n",
        "可以告訴我你 *開心* 的原因嗎？**因為週末了！** \n",
        "\n",
        "祝你週末愉快！\n",
        "\n",
        "我喜歡跟你聊天，現在有點累了，改天再聊吧！！\n",
        "\n",
        "再見 *Francis*！"
      ]
    },
    {
      "cell_type": "code",
      "metadata": {
        "colab": {
          "base_uri": "https://localhost:8080/"
        },
        "id": "g0d5VKpWwxDH",
        "outputId": "b15bd214-1ae4-4dc9-fc13-d9b3e781556d"
      },
      "source": [
        "# 5. 關於心情的對話\n",
        "name=(\"鳳梨河童\")\n",
        "mood=input(\"你今天的心情如何？：\")\n",
        "print(f\"可以告訴我你{mood}的原因嗎！:\")\n",
        "reason=input(\"why?\")\n",
        "print(f\"祝你{reason}愉快!\")\n",
        "print(\"我喜歡跟你聊天，現在有點累了，改天再聊吧！\")\n",
        "print(f\"再見{name}！\")"
      ],
      "execution_count": 15,
      "outputs": [
        {
          "output_type": "stream",
          "text": [
            "你今天的心情如何？：讚讚\n",
            "可以告訴我你讚讚的原因嗎！:\n",
            "why?讚讚\n",
            "祝你讚讚愉快!\n",
            "我喜歡跟你聊天，現在有點累了，改天再聊吧！\n",
            "再見鳳梨河童！\n"
          ],
          "name": "stdout"
        }
      ]
    },
    {
      "cell_type": "markdown",
      "metadata": {
        "id": "L9C2-AKuwxDH"
      },
      "source": [
        "我喜歡跟你聊天，現在有點累了，改天再聊吧！！\n",
        "\n",
        "再見 *Francis*！"
      ]
    },
    {
      "cell_type": "code",
      "metadata": {
        "id": "scG9nK1ywxDH"
      },
      "source": [
        "# 6. 道別\n"
      ],
      "execution_count": null,
      "outputs": []
    },
    {
      "cell_type": "markdown",
      "metadata": {
        "id": "mBx4CNvnwxDI"
      },
      "source": [
        "## 期末報告"
      ]
    },
    {
      "cell_type": "markdown",
      "metadata": {
        "id": "yq6Tc_gSwxDI"
      },
      "source": [
        "### 組長(學號姓名):\n",
        "\n"
      ]
    },
    {
      "cell_type": "markdown",
      "metadata": {
        "id": "85q_V2HfwxDI"
      },
      "source": [
        "### 組員(學號姓名):\n",
        "\n"
      ]
    },
    {
      "cell_type": "markdown",
      "metadata": {
        "id": "SgP6Bqy_wxDI"
      },
      "source": [
        "### 題目:"
      ]
    },
    {
      "cell_type": "markdown",
      "metadata": {
        "id": "jLS4zE7FwxDJ"
      },
      "source": [
        "### 百字腳本\n",
        "\n"
      ]
    }
  ]
}